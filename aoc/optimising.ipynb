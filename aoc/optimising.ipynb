{
 "cells": [
  {
   "cell_type": "code",
   "execution_count": 23,
   "metadata": {},
   "outputs": [
    {
     "data": {
      "text/plain": "{'a': {'a', 'c'},\n 'c': {'d', 'g'},\n 'e': {'b'},\n 'd': {'a', 'c'},\n 'g': {'e'},\n 'f': {'d', 'g'},\n 'b': {'f'}}"
     },
     "execution_count": 23,
     "metadata": {},
     "output_type": "execute_result"
    }
   ],
   "source": [
    "from collections import Counter\n",
    "number_to_position = {\n",
    "    0:\"abcefg\",\n",
    "    1:\"cf\",\n",
    "    2:\"acdeg\",\n",
    "    3:\"acdfg\",\n",
    "    4:\"bcdf\",\n",
    "    5:\"abdfg\",\n",
    "    6:\"abdefg\",\n",
    "    7:\"acf\",\n",
    "    8:\"abcdefg\",\n",
    "    9:\"abcdfg\"\n",
    "}\n",
    "\n",
    "Counter(\"\".join(number_to_position.values()))\n",
    "\n",
    "\n",
    "count_map = {4:set(\"e\"), 6:set(\"b\"), 7: set(\"dg\"), 8:set(\"ac\"), 9:set(\"f\")}\n",
    "\n",
    "line = \"acedgfb cdfbe gcdfa fbcad dab cefabd cdfgeb eafb cagedb ab | cdfeb fcadb cdfeb cdbaf\"\n",
    "patterns, output = tuple(map(lambda x: x.split(\" \") ,line.strip().split(\" | \")))\n",
    "\n",
    "{key:count_map[value] for key, value in Counter(\"\".join(patterns)).items()}"
   ]
  },
  {
   "cell_type": "code",
   "execution_count": 72,
   "metadata": {},
   "outputs": [
    {
     "name": "stdout",
     "output_type": "stream",
     "text": [
      "{'a': {'c'}, 'c': {'g', 'd'}, 'e': {'b'}, 'd': {'a'}, 'g': {'e'}, 'f': {'d'}, 'b': {'f'}}\n"
     ]
    },
    {
     "data": {
      "text/plain": "{'a': 'c', 'c': 'g', 'e': 'b', 'd': 'a', 'g': 'e', 'f': 'd', 'b': 'f'}"
     },
     "execution_count": 72,
     "metadata": {},
     "output_type": "execute_result"
    }
   ],
   "source": [
    "count_map = {4:set(\"e\"), 6:set(\"b\"), 7: set(\"dg\"), 8:set(\"ac\"), 9:set(\"f\")}\n",
    "\n",
    "# maps code to position\n",
    "map_dict = {key:count_map[value] for key, value in Counter(\"\".join(patterns)).items()}\n",
    "\n",
    "# difference between 2 and 3 maps to a\n",
    "p2 = set([list(p) for p in patterns if len(p)==2][0])\n",
    "p3 = set([list(p) for p in patterns if len(p)==3][0])\n",
    "\n",
    "map_dict[(p3 - p2).pop()] = set(\"a\")\n",
    "\n",
    "for key, value in map_dict.items():\n",
    "    if len(value) == 2 and \"a\" in value:\n",
    "        value.remove(\"a\")\n",
    "        map_dict[key] = value\n",
    "        break\n",
    "\n",
    "# difference between 0 and 8 is reverse engineering\n",
    "\n",
    "pattern_8 = set(\"abcdefg\")\n",
    "\n",
    "# maps position to code\n",
    "rev_map_dict = {next(iter(value)):key for key, value in map_dict.items() if len(value)==1}\n",
    "\n",
    "# get list of ones with length 6\n",
    "# 0 will have one of the unconfirmed elements which corresponds to f\n",
    "# the remaining will correspond to d\n",
    "p7s = [set(p) for p in patterns if len(p)==6]\n",
    "confirmed = set([next(iter(value)) for key, value in map_dict.items() if len(value)==1])\n",
    "\n",
    "for p7 in p7s:\n",
    "    if len(p7 - confirmed) == 1:\n",
    "        map_dict[\"f\"] = p7 - confirmed\n",
    "\n",
    "print(map_dict)\n",
    "\n",
    "for key, value in map_dict.items():\n",
    "    if len(value) == 2:\n",
    "        map_dict[key] = \"g\"\n",
    "    else:\n",
    "        map_dict[key] = value.pop()\n",
    "\n",
    "map_dict"
   ]
  },
  {
   "cell_type": "code",
   "execution_count": 74,
   "metadata": {},
   "outputs": [
    {
     "name": "stdout",
     "output_type": "stream",
     "text": [
      "{'abcefg': 0, 'cf': 1, 'acdeg': 2, 'acdfg': 3, 'bcdf': 4, 'abdfg': 5, 'abdefg': 6, 'acf': 7, 'abcdefg': 8, 'abcdfg': 9}\n"
     ]
    }
   ],
   "source": [
    "number_to_position = {\n",
    "    0:\"abcefg\",\n",
    "    1:\"cf\",\n",
    "    2:\"acdeg\",\n",
    "    3:\"acdfg\",\n",
    "    4:\"bcdf\",\n",
    "    5:\"abdfg\",\n",
    "    6:\"abdefg\",\n",
    "    7:\"acf\",\n",
    "    8:\"abcdefg\",\n",
    "    9:\"abcdfg\"\n",
    "}\n",
    "\n",
    "position_to_number = {value: key for key, value in number_to_position.items()}\n",
    "print(position_to_number)"
   ]
  }
 ],
 "metadata": {
  "kernelspec": {
   "display_name": "Python 3.7.8 64-bit ('miniconda3': conda)",
   "name": "python378jvsc74a57bd01c5d8590bcefc674ac0df8914f00f0fb38014d510970df1af556c038657fa99b"
  },
  "language_info": {
   "codemirror_mode": {
    "name": "ipython",
    "version": 3
   },
   "file_extension": ".py",
   "mimetype": "text/x-python",
   "name": "python",
   "nbconvert_exporter": "python",
   "pygments_lexer": "ipython3",
   "version": "3.7.8"
  },
  "orig_nbformat": 2
 },
 "nbformat": 4,
 "nbformat_minor": 2
}